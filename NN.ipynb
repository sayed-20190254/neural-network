{
 "cells": [
  {
   "cell_type": "code",
   "execution_count": 1,
   "id": "c609d268",
   "metadata": {},
   "outputs": [],
   "source": [
    "import struct\n",
    "import numpy as np\n",
    "import matplotlib.pyplot as plt\n",
    "from sklearn.metrics import accuracy_score\n",
    "from math import exp\n",
    "from sklearn.model_selection import train_test_split as split_\n",
    "from random import seed\n",
    "from sklearn import  metrics\n",
    "import itertools"
   ]
  },
  {
   "cell_type": "code",
   "execution_count": 2,
   "id": "1b6639ae",
   "metadata": {},
   "outputs": [],
   "source": [
    "def read(fr):\n",
    "    with open (fr,'rb')as f:\n",
    "        zero,data_type,dims=struct.unpack('>HBB',f.read(4))\n",
    "        shape=tuple(struct.unpack('>I',f.read(4))[0] for d in range(dims))\n",
    "        return np.fromstring(f.read(),dtype=np.uint8).reshape(shape)"
   ]
  },
  {
   "cell_type": "code",
   "execution_count": 3,
   "id": "4db51682",
   "metadata": {},
   "outputs": [
    {
     "name": "stderr",
     "output_type": "stream",
     "text": [
      "<ipython-input-2-e35aec660882>:5: DeprecationWarning: The binary mode of fromstring is deprecated, as it behaves surprisingly on unicode inputs. Use frombuffer instead\n",
      "  return np.fromstring(f.read(),dtype=np.uint8).reshape(shape)\n"
     ]
    },
    {
     "name": "stdout",
     "output_type": "stream",
     "text": [
      "(10000, 28, 28)\n",
      "(1000, 28, 28)\n"
     ]
    }
   ],
   "source": [
    "#this link to get mnist data set that you will use to train this model\n",
    "#http://yann.lecun.com/exdb/mnist/\n",
    "\n",
    "trean=read('train-images.idx3-ubyte')\n",
    "data_trean=np.reshape(trean,(60000,28,28))\n",
    "trean_l=read('train-labels.idx1-ubyte')\n",
    "teast=read('t10k-images.idx3-ubyte')\n",
    "data_teast=np.reshape(teast,(10000,28,28))\n",
    "teast_l=read('t10k-labels.idx1-ubyte')\n",
    "data_trean,r,trean_l,t = split_(data_trean,trean_l, test_size=5/6)\n",
    "data_teast,r,teast_l,t = split_(data_teast,teast_l, test_size=0.9)\n",
    "print(data_trean.shape)\n",
    "print(data_teast.shape)"
   ]
  },
  {
   "cell_type": "code",
   "execution_count": 4,
   "id": "67c28bab",
   "metadata": {},
   "outputs": [],
   "source": [
    "def plot_con_mat(cm,classes,nomalize=False,title='confusion matrix',cmap=plt.cm.Blues):\n",
    "    if nomalize:\n",
    "        cm=cm.astype('float')/cm.sum(axis=1)[:,np.newaxis]\n",
    "        print ('normalized confusion matrix')\n",
    "    else:\n",
    "        print('confusion matrix, without normalzion')\n",
    "   \n",
    "    plt.imshow(cm,interpolation='nearest',cmap=cmap)\n",
    "    plt.title(title)\n",
    "    plt.colorbar()\n",
    "    tick_marks=np.arange(len(classes))\n",
    "    plt.xticks(tick_marks,classes,rotation=45)\n",
    "    plt.yticks(tick_marks,classes)\n",
    "    fmt='.2f' if nomalize else 'd'\n",
    "    thersh = cm.max()/2\n",
    "    for i,j in itertools.product(range(cm.shape[0]),range(cm.shape[1])):\n",
    "        plt.text(j,i,format(cm[i,j],fmt),\n",
    "                horizontalalignment='center',\n",
    "                color='white'if cm[i,j] > thersh else 'black')\n",
    "    plt.tight_layout()\n",
    "    plt.ylabel('True label')\n",
    "    plt.xlabel('Predicted label')\n",
    "        "
   ]
  },
  {
   "cell_type": "code",
   "execution_count": 5,
   "id": "a3235851",
   "metadata": {},
   "outputs": [],
   "source": [
    "def reshape(df):\n",
    "    df1=np.ones((len(df),16,7,7))\n",
    "    for y in range(len(df)):\n",
    "        d=-4\n",
    "        for i in range(28):\n",
    "            if i%7==0:\n",
    "                d+=4\n",
    "                e=0\n",
    "            r=0\n",
    "            for x in range(4):\n",
    "                for w in range(7): \n",
    "                    df1[y][x+d][e][w]=df[y][i][w+r]\n",
    "                r+=7\n",
    "            e+=1\n",
    "    return df1\n"
   ]
  },
  {
   "cell_type": "code",
   "execution_count": 6,
   "id": "d9a34a92",
   "metadata": {},
   "outputs": [],
   "source": [
    "def normalize(df):\n",
    "    for y in range(len(df)):\n",
    "        for i in range(28):\n",
    "            for x in range(28):\n",
    "                if df[y][i][x]>0:\n",
    "                    df[y][i][x]=1\n",
    "\n",
    "    return df"
   ]
  },
  {
   "cell_type": "code",
   "execution_count": 7,
   "id": "c51eb20e",
   "metadata": {},
   "outputs": [],
   "source": [
    "#data_trean=normalize(data_trean)\n",
    "#data_teast=normalize(data_teast)\n",
    "data_trean=reshape(data_trean)\n",
    "data_teast=reshape(data_teast)"
   ]
  },
  {
   "cell_type": "code",
   "execution_count": 8,
   "id": "4493d1a8",
   "metadata": {},
   "outputs": [],
   "source": [
    "def fit(data_teast):\n",
    "    f1=np.ones((len(data_teast),16,2))\n",
    "    for e in range(len(data_teast)):\n",
    "        for x in range(16):\n",
    "            xc=0\n",
    "            yc=0\n",
    "            for i in range(7):\n",
    "                if data_teast[e][x].sum()==0:\n",
    "                    yc=4\n",
    "                    xc=4\n",
    "                    break\n",
    "                yc+=data_teast[e][x,:,i].sum()*(i)\n",
    "                xc+=data_teast[e][x][i].sum()*(i)\n",
    "            if data_teast[e][x].sum()!=0:\n",
    "                xc/=data_teast[e][x].sum()\n",
    "                yc/=data_teast[e][x].sum()\n",
    "            f1[e][x][1]=yc\n",
    "            f1[e][x][0]=xc\n",
    "    f1=np.reshape(f1,(len(data_teast),16*2))\n",
    "    return f1\n"
   ]
  },
  {
   "cell_type": "code",
   "execution_count": 9,
   "id": "e4c2c8af",
   "metadata": {},
   "outputs": [],
   "source": [
    "def indx(trean_l):\n",
    "    t_l=[]\n",
    "    for i in range(len(trean_l)):\n",
    "        t_l.append(np.zeros(10))\n",
    "        t_l[i][trean_l[i]]=1\n",
    "    return t_l\n",
    "t_l=indx(trean_l)\n",
    "ts_l=indx(teast_l)\n",
    "\n"
   ]
  },
  {
   "cell_type": "code",
   "execution_count": 10,
   "id": "bfa88382",
   "metadata": {},
   "outputs": [],
   "source": [
    "dtr1=fit(data_trean)\n",
    "dts1=fit(data_teast)\n"
   ]
  },
  {
   "cell_type": "code",
   "execution_count": 11,
   "id": "2a018705",
   "metadata": {},
   "outputs": [],
   "source": [
    "def scal(data):\n",
    "    for i in range(len(data)):\n",
    "        for x in range(len(data[i])):\n",
    "            data[i][x]/=3\n",
    "    return data\n",
    "dtr=scal(dtr1)\n",
    "dts=scal(dts1)\n",
    "    "
   ]
  },
  {
   "cell_type": "code",
   "execution_count": 12,
   "id": "31f0f088",
   "metadata": {},
   "outputs": [],
   "source": [
    "class NN:\n",
    "    def forwerd(self,img,w):\n",
    "        #print(w.shape)\n",
    "        sum1=np.dot(img,w)\n",
    "        #print(sum1)\n",
    "        o=1/(1+exp(-sum1))\n",
    "        #print(o)\n",
    "        #print('out')\n",
    "        return o\n",
    "    def layerout(self,img,w,nn):\n",
    "        oj=[]\n",
    "        for i in range(len(w)):\n",
    "            oj.append(self.forwerd(self,img,w[i]))\n",
    "        return oj\n",
    "    def layers(self,img,w,nl,nn):\n",
    "        allout=[]\n",
    "        allout.append(img)\n",
    "        for i in range(nl):\n",
    "            allout.append(self.layerout(self,allout[i],w[i],nn))\n",
    "        return allout\n",
    "    def backout(self,oj,oi,t_l,w,eta):\n",
    "        delta=np.ones(10)\n",
    "        for i in range(10):\n",
    "            #print(len(w[0]))\n",
    "            delta[i]=t_l[i]-oj[i]\n",
    "            #print(delta[i])\n",
    "            delta[i]*=oj[i]\n",
    "            #print(delta[i])\n",
    "            delta[i]*=(1-oj[i])\n",
    "            #print(delta[i])\n",
    "            #print(\"sayed//////////////////////////////////////////////////////////////\")\n",
    "            for x in range(len(w)):\n",
    "                #print(w[i][x])\n",
    "                #print(\"//////////////////////////////////////////////////////////////\")\n",
    "                w[i][x]+=delta[i]*oi[x]*eta\n",
    "                #print(w[i][x])\n",
    "            #print(w)\n",
    "        return delta,w      \n",
    "    def data(self,data,nl,nn,t_l,eta,epochs): \n",
    "        w=[]\n",
    "        np.random.seed(1)\n",
    "        w.append(np.random.rand(nn,32)-.5)\n",
    "        for i in range(nl-2):\n",
    "            w.append(np.random.rand(nn,nn)-.5)\n",
    "        w.append(np.random.rand(10,nn)-.5)\n",
    "        for j in range(epochs):\n",
    "            for x in range(len(data)):\n",
    "                #print(w)\n",
    "                oj=self.layers(self,data[x],w,nl,nn)\n",
    "               # print(oj[-1])\n",
    "                delta,w[-1]=self.backout(self,oj[-1],oj[-2],t_l[x],w[-1],eta)\n",
    "                for i in range(-1,-nl,-1):\n",
    "                   # print(i)\n",
    "                    delta,w[i-1]=self.backhid(self,oj[i-1],oj[i-2],w[i],w[i-1],delta,eta)\n",
    "                #print(delta)\n",
    "                #print('sa')\n",
    "        return w\n",
    "    def fit(self,w,data,nl,nn):\n",
    "        ind=[]\n",
    "        for i in data:\n",
    "            out=self.layers(self,i,w,nl,nn)[1:][-1]\n",
    "            out1=sorted(out)\n",
    "            #print(out.index(out1[-1]))\n",
    "            ind.append(out.index(out1[-1]))\n",
    "        return ind  \n",
    "    def backhid(self,oj,oi,wkj,wji,delta_k,eta):\n",
    "        delta=np.zeros(len(wji))\n",
    "        for i in range(len(wji)): \n",
    "            #print(len(wji))\n",
    "            #print(len(delta_k))\n",
    "            delta[i]=(delta_k*wkj[:,i]).sum()\n",
    "            #print(delta[i])\n",
    "            delta[i]*=oj[i]\n",
    "            #print(delta[i])\n",
    "            delta[i]*=(1-oj[i])\n",
    "            #print(delta[i])\n",
    "            #print(\"sayed//////////////////////////////////////////////////////////////\")\n",
    "            for x in range(len(wji[i])):\n",
    "                e=delta[i]*oi[x]\n",
    "               # print(e)\n",
    "                #print(len(wj[0]))\n",
    "                #print(\"//////////////////////////////////////////////////////////////\")\n",
    "                wji[i][x]+=e*eta\n",
    "                #print(w[i][x])\n",
    "           #print(len(wj[i]))\n",
    "        return delta,wji"
   ]
  },
  {
   "cell_type": "code",
   "execution_count": null,
   "id": "76247013",
   "metadata": {
    "scrolled": true
   },
   "outputs": [],
   "source": [
    "model=NN\n",
    "nl=2\n",
    "nn=300\n",
    "e=50\n",
    "w=model.data(model,dtr,nl,nn,t_l,1e-1,e)"
   ]
  },
  {
   "cell_type": "code",
   "execution_count": null,
   "id": "fbdfc12f",
   "metadata": {},
   "outputs": [],
   "source": [
    "out=model.fit(model,w,dts,nl,nn)\n",
    "from sklearn.metrics import accuracy_score\n",
    "accuracy_score(out,teast_l)"
   ]
  },
  {
   "cell_type": "code",
   "execution_count": null,
   "id": "a9176bf1",
   "metadata": {},
   "outputs": [],
   "source": [
    "cm=metrics.confusion_matrix(teast_l,out)\n",
    "plot_con_mat(cm,['0','1','2','3','4','5','6','7','8','9'],nomalize=True)"
   ]
  },
  {
   "cell_type": "code",
   "execution_count": null,
   "id": "d62f881d",
   "metadata": {},
   "outputs": [],
   "source": []
  },
  {
   "cell_type": "code",
   "execution_count": null,
   "id": "7d88eba8",
   "metadata": {},
   "outputs": [],
   "source": []
  }
 ],
 "metadata": {
  "kernelspec": {
   "display_name": "Python 3",
   "language": "python",
   "name": "python3"
  },
  "language_info": {
   "codemirror_mode": {
    "name": "ipython",
    "version": 3
   },
   "file_extension": ".py",
   "mimetype": "text/x-python",
   "name": "python",
   "nbconvert_exporter": "python",
   "pygments_lexer": "ipython3",
   "version": "3.8.8"
  }
 },
 "nbformat": 4,
 "nbformat_minor": 5
}
